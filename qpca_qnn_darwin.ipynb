{
  "metadata": {
    "kernelspec": {
      "language": "python",
      "display_name": "Python 3",
      "name": "python3"
    },
    "language_info": {
      "name": "python",
      "version": "3.11.11",
      "mimetype": "text/x-python",
      "codemirror_mode": {
        "name": "ipython",
        "version": 3
      },
      "pygments_lexer": "ipython3",
      "nbconvert_exporter": "python",
      "file_extension": ".py"
    },
    "kaggle": {
      "accelerator": "none",
      "dataSources": [
        {
          "sourceId": 11888509,
          "sourceType": "datasetVersion",
          "datasetId": 7472321
        }
      ],
      "dockerImageVersionId": 31040,
      "isInternetEnabled": true,
      "language": "python",
      "sourceType": "notebook",
      "isGpuEnabled": false
    },
    "colab": {
      "provenance": []
    }
  },
  "nbformat_minor": 0,
  "nbformat": 4,
  "cells": [
    {
      "cell_type": "code",
      "source": [
        "!pip install --quiet pennylane"
      ],
      "metadata": {
        "_uuid": "8f2839f25d086af736a60e9eeb907d3b93b6e0e5",
        "_cell_guid": "b1076dfc-b9ad-4769-8c92-a6c4dae69d19",
        "trusted": true,
        "execution": {
          "iopub.status.busy": "2025-05-20T20:27:49.068121Z",
          "iopub.execute_input": "2025-05-20T20:27:49.068418Z",
          "iopub.status.idle": "2025-05-20T20:27:57.559087Z",
          "shell.execute_reply.started": "2025-05-20T20:27:49.068397Z",
          "shell.execute_reply": "2025-05-20T20:27:57.558067Z"
        },
        "colab": {
          "base_uri": "https://localhost:8080/"
        },
        "id": "CywefPfLc-ge",
        "outputId": "6f0e9688-ceb2-461b-bd56-33146c67f3f6"
      },
      "outputs": [
        {
          "output_type": "stream",
          "name": "stdout",
          "text": [
            "\u001b[2K     \u001b[90m━━━━━━━━━━━━━━━━━━━━━━━━━━━━━━━━━━━━━━━━\u001b[0m \u001b[32m56.1/56.1 kB\u001b[0m \u001b[31m2.3 MB/s\u001b[0m eta \u001b[36m0:00:00\u001b[0m\n",
            "\u001b[2K   \u001b[90m━━━━━━━━━━━━━━━━━━━━━━━━━━━━━━━━━━━━━━━━\u001b[0m \u001b[32m2.3/2.3 MB\u001b[0m \u001b[31m27.5 MB/s\u001b[0m eta \u001b[36m0:00:00\u001b[0m\n",
            "\u001b[2K   \u001b[90m━━━━━━━━━━━━━━━━━━━━━━━━━━━━━━━━━━━━━━━━\u001b[0m \u001b[32m930.8/930.8 kB\u001b[0m \u001b[31m32.8 MB/s\u001b[0m eta \u001b[36m0:00:00\u001b[0m\n",
            "\u001b[2K   \u001b[90m━━━━━━━━━━━━━━━━━━━━━━━━━━━━━━━━━━━━━━━━\u001b[0m \u001b[32m2.5/2.5 MB\u001b[0m \u001b[31m54.3 MB/s\u001b[0m eta \u001b[36m0:00:00\u001b[0m\n",
            "\u001b[2K   \u001b[90m━━━━━━━━━━━━━━━━━━━━━━━━━━━━━━━━━━━━━━━━\u001b[0m \u001b[32m2.1/2.1 MB\u001b[0m \u001b[31m62.0 MB/s\u001b[0m eta \u001b[36m0:00:00\u001b[0m\n",
            "\u001b[2K   \u001b[90m━━━━━━━━━━━━━━━━━━━━━━━━━━━━━━━━━━━━━━━━\u001b[0m \u001b[32m167.9/167.9 kB\u001b[0m \u001b[31m8.8 MB/s\u001b[0m eta \u001b[36m0:00:00\u001b[0m\n",
            "\u001b[2K   \u001b[90m━━━━━━━━━━━━━━━━━━━━━━━━━━━━━━━━━━━━━━━━\u001b[0m \u001b[32m8.6/8.6 MB\u001b[0m \u001b[31m92.6 MB/s\u001b[0m eta \u001b[36m0:00:00\u001b[0m\n",
            "\u001b[?25h"
          ]
        }
      ],
      "execution_count": 1
    },
    {
      "cell_type": "markdown",
      "source": [
        "# PCA+QNN"
      ],
      "metadata": {
        "id": "diAMWBcSc-gh"
      }
    },
    {
      "cell_type": "code",
      "source": [
        "import pennylane as qml\n",
        "import pandas as pd\n",
        "from pennylane import numpy as np\n",
        "from sklearn.model_selection import train_test_split\n",
        "from sklearn.preprocessing import StandardScaler"
      ],
      "metadata": {
        "trusted": true,
        "execution": {
          "iopub.status.busy": "2025-05-20T20:28:39.369162Z",
          "iopub.execute_input": "2025-05-20T20:28:39.369417Z",
          "iopub.status.idle": "2025-05-20T20:28:43.571429Z",
          "shell.execute_reply.started": "2025-05-20T20:28:39.369393Z",
          "shell.execute_reply": "2025-05-20T20:28:43.570764Z"
        },
        "colab": {
          "base_uri": "https://localhost:8080/"
        },
        "id": "eP6vYoq3c-gj",
        "outputId": "8e181134-affc-49ac-aab9-34e36be142c6"
      },
      "outputs": [
        {
          "output_type": "stream",
          "name": "stderr",
          "text": [
            "/usr/local/lib/python3.11/dist-packages/pennylane/capture/capture_operators.py:33: RuntimeWarning: PennyLane is not yet compatible with JAX versions > 0.4.28. You have version 0.5.2 installed. Please downgrade JAX to <=0.4.28 to avoid runtime errors.\n",
            "  warnings.warn(\n"
          ]
        }
      ],
      "execution_count": 2
    },
    {
      "cell_type": "code",
      "source": [
        "df=pd.read_csv(\"/content/qpca_based_reduced_features_with_labels_darwin.csv\")\n",
        "df.head()"
      ],
      "metadata": {
        "trusted": true,
        "execution": {
          "iopub.status.busy": "2025-05-20T20:29:06.739828Z",
          "iopub.execute_input": "2025-05-20T20:29:06.740302Z",
          "iopub.status.idle": "2025-05-20T20:29:06.773201Z",
          "shell.execute_reply.started": "2025-05-20T20:29:06.740282Z",
          "shell.execute_reply": "2025-05-20T20:29:06.772478Z"
        },
        "colab": {
          "base_uri": "https://localhost:8080/",
          "height": 206
        },
        "id": "f1T3of33c-gj",
        "outputId": "36b7a688-c3e8-47d1-a68d-fc9a6fa2d95f"
      },
      "outputs": [
        {
          "output_type": "execute_result",
          "data": {
            "text/plain": [
              "   Feature1  Feature2  Label\n",
              "0  3.028078  2.610559      1\n",
              "1  6.664082  4.747633      1\n",
              "2  2.848981  2.719746      1\n",
              "3  6.557455  2.384333      1\n",
              "4  3.996637  2.778244      1"
            ],
            "text/html": [
              "\n",
              "  <div id=\"df-1ade83eb-d551-4c2c-bafc-5419bf6fde8d\" class=\"colab-df-container\">\n",
              "    <div>\n",
              "<style scoped>\n",
              "    .dataframe tbody tr th:only-of-type {\n",
              "        vertical-align: middle;\n",
              "    }\n",
              "\n",
              "    .dataframe tbody tr th {\n",
              "        vertical-align: top;\n",
              "    }\n",
              "\n",
              "    .dataframe thead th {\n",
              "        text-align: right;\n",
              "    }\n",
              "</style>\n",
              "<table border=\"1\" class=\"dataframe\">\n",
              "  <thead>\n",
              "    <tr style=\"text-align: right;\">\n",
              "      <th></th>\n",
              "      <th>Feature1</th>\n",
              "      <th>Feature2</th>\n",
              "      <th>Label</th>\n",
              "    </tr>\n",
              "  </thead>\n",
              "  <tbody>\n",
              "    <tr>\n",
              "      <th>0</th>\n",
              "      <td>3.028078</td>\n",
              "      <td>2.610559</td>\n",
              "      <td>1</td>\n",
              "    </tr>\n",
              "    <tr>\n",
              "      <th>1</th>\n",
              "      <td>6.664082</td>\n",
              "      <td>4.747633</td>\n",
              "      <td>1</td>\n",
              "    </tr>\n",
              "    <tr>\n",
              "      <th>2</th>\n",
              "      <td>2.848981</td>\n",
              "      <td>2.719746</td>\n",
              "      <td>1</td>\n",
              "    </tr>\n",
              "    <tr>\n",
              "      <th>3</th>\n",
              "      <td>6.557455</td>\n",
              "      <td>2.384333</td>\n",
              "      <td>1</td>\n",
              "    </tr>\n",
              "    <tr>\n",
              "      <th>4</th>\n",
              "      <td>3.996637</td>\n",
              "      <td>2.778244</td>\n",
              "      <td>1</td>\n",
              "    </tr>\n",
              "  </tbody>\n",
              "</table>\n",
              "</div>\n",
              "    <div class=\"colab-df-buttons\">\n",
              "\n",
              "  <div class=\"colab-df-container\">\n",
              "    <button class=\"colab-df-convert\" onclick=\"convertToInteractive('df-1ade83eb-d551-4c2c-bafc-5419bf6fde8d')\"\n",
              "            title=\"Convert this dataframe to an interactive table.\"\n",
              "            style=\"display:none;\">\n",
              "\n",
              "  <svg xmlns=\"http://www.w3.org/2000/svg\" height=\"24px\" viewBox=\"0 -960 960 960\">\n",
              "    <path d=\"M120-120v-720h720v720H120Zm60-500h600v-160H180v160Zm220 220h160v-160H400v160Zm0 220h160v-160H400v160ZM180-400h160v-160H180v160Zm440 0h160v-160H620v160ZM180-180h160v-160H180v160Zm440 0h160v-160H620v160Z\"/>\n",
              "  </svg>\n",
              "    </button>\n",
              "\n",
              "  <style>\n",
              "    .colab-df-container {\n",
              "      display:flex;\n",
              "      gap: 12px;\n",
              "    }\n",
              "\n",
              "    .colab-df-convert {\n",
              "      background-color: #E8F0FE;\n",
              "      border: none;\n",
              "      border-radius: 50%;\n",
              "      cursor: pointer;\n",
              "      display: none;\n",
              "      fill: #1967D2;\n",
              "      height: 32px;\n",
              "      padding: 0 0 0 0;\n",
              "      width: 32px;\n",
              "    }\n",
              "\n",
              "    .colab-df-convert:hover {\n",
              "      background-color: #E2EBFA;\n",
              "      box-shadow: 0px 1px 2px rgba(60, 64, 67, 0.3), 0px 1px 3px 1px rgba(60, 64, 67, 0.15);\n",
              "      fill: #174EA6;\n",
              "    }\n",
              "\n",
              "    .colab-df-buttons div {\n",
              "      margin-bottom: 4px;\n",
              "    }\n",
              "\n",
              "    [theme=dark] .colab-df-convert {\n",
              "      background-color: #3B4455;\n",
              "      fill: #D2E3FC;\n",
              "    }\n",
              "\n",
              "    [theme=dark] .colab-df-convert:hover {\n",
              "      background-color: #434B5C;\n",
              "      box-shadow: 0px 1px 3px 1px rgba(0, 0, 0, 0.15);\n",
              "      filter: drop-shadow(0px 1px 2px rgba(0, 0, 0, 0.3));\n",
              "      fill: #FFFFFF;\n",
              "    }\n",
              "  </style>\n",
              "\n",
              "    <script>\n",
              "      const buttonEl =\n",
              "        document.querySelector('#df-1ade83eb-d551-4c2c-bafc-5419bf6fde8d button.colab-df-convert');\n",
              "      buttonEl.style.display =\n",
              "        google.colab.kernel.accessAllowed ? 'block' : 'none';\n",
              "\n",
              "      async function convertToInteractive(key) {\n",
              "        const element = document.querySelector('#df-1ade83eb-d551-4c2c-bafc-5419bf6fde8d');\n",
              "        const dataTable =\n",
              "          await google.colab.kernel.invokeFunction('convertToInteractive',\n",
              "                                                    [key], {});\n",
              "        if (!dataTable) return;\n",
              "\n",
              "        const docLinkHtml = 'Like what you see? Visit the ' +\n",
              "          '<a target=\"_blank\" href=https://colab.research.google.com/notebooks/data_table.ipynb>data table notebook</a>'\n",
              "          + ' to learn more about interactive tables.';\n",
              "        element.innerHTML = '';\n",
              "        dataTable['output_type'] = 'display_data';\n",
              "        await google.colab.output.renderOutput(dataTable, element);\n",
              "        const docLink = document.createElement('div');\n",
              "        docLink.innerHTML = docLinkHtml;\n",
              "        element.appendChild(docLink);\n",
              "      }\n",
              "    </script>\n",
              "  </div>\n",
              "\n",
              "\n",
              "    <div id=\"df-e98b0899-a115-4172-ae90-f71dc0f2a352\">\n",
              "      <button class=\"colab-df-quickchart\" onclick=\"quickchart('df-e98b0899-a115-4172-ae90-f71dc0f2a352')\"\n",
              "                title=\"Suggest charts\"\n",
              "                style=\"display:none;\">\n",
              "\n",
              "<svg xmlns=\"http://www.w3.org/2000/svg\" height=\"24px\"viewBox=\"0 0 24 24\"\n",
              "     width=\"24px\">\n",
              "    <g>\n",
              "        <path d=\"M19 3H5c-1.1 0-2 .9-2 2v14c0 1.1.9 2 2 2h14c1.1 0 2-.9 2-2V5c0-1.1-.9-2-2-2zM9 17H7v-7h2v7zm4 0h-2V7h2v10zm4 0h-2v-4h2v4z\"/>\n",
              "    </g>\n",
              "</svg>\n",
              "      </button>\n",
              "\n",
              "<style>\n",
              "  .colab-df-quickchart {\n",
              "      --bg-color: #E8F0FE;\n",
              "      --fill-color: #1967D2;\n",
              "      --hover-bg-color: #E2EBFA;\n",
              "      --hover-fill-color: #174EA6;\n",
              "      --disabled-fill-color: #AAA;\n",
              "      --disabled-bg-color: #DDD;\n",
              "  }\n",
              "\n",
              "  [theme=dark] .colab-df-quickchart {\n",
              "      --bg-color: #3B4455;\n",
              "      --fill-color: #D2E3FC;\n",
              "      --hover-bg-color: #434B5C;\n",
              "      --hover-fill-color: #FFFFFF;\n",
              "      --disabled-bg-color: #3B4455;\n",
              "      --disabled-fill-color: #666;\n",
              "  }\n",
              "\n",
              "  .colab-df-quickchart {\n",
              "    background-color: var(--bg-color);\n",
              "    border: none;\n",
              "    border-radius: 50%;\n",
              "    cursor: pointer;\n",
              "    display: none;\n",
              "    fill: var(--fill-color);\n",
              "    height: 32px;\n",
              "    padding: 0;\n",
              "    width: 32px;\n",
              "  }\n",
              "\n",
              "  .colab-df-quickchart:hover {\n",
              "    background-color: var(--hover-bg-color);\n",
              "    box-shadow: 0 1px 2px rgba(60, 64, 67, 0.3), 0 1px 3px 1px rgba(60, 64, 67, 0.15);\n",
              "    fill: var(--button-hover-fill-color);\n",
              "  }\n",
              "\n",
              "  .colab-df-quickchart-complete:disabled,\n",
              "  .colab-df-quickchart-complete:disabled:hover {\n",
              "    background-color: var(--disabled-bg-color);\n",
              "    fill: var(--disabled-fill-color);\n",
              "    box-shadow: none;\n",
              "  }\n",
              "\n",
              "  .colab-df-spinner {\n",
              "    border: 2px solid var(--fill-color);\n",
              "    border-color: transparent;\n",
              "    border-bottom-color: var(--fill-color);\n",
              "    animation:\n",
              "      spin 1s steps(1) infinite;\n",
              "  }\n",
              "\n",
              "  @keyframes spin {\n",
              "    0% {\n",
              "      border-color: transparent;\n",
              "      border-bottom-color: var(--fill-color);\n",
              "      border-left-color: var(--fill-color);\n",
              "    }\n",
              "    20% {\n",
              "      border-color: transparent;\n",
              "      border-left-color: var(--fill-color);\n",
              "      border-top-color: var(--fill-color);\n",
              "    }\n",
              "    30% {\n",
              "      border-color: transparent;\n",
              "      border-left-color: var(--fill-color);\n",
              "      border-top-color: var(--fill-color);\n",
              "      border-right-color: var(--fill-color);\n",
              "    }\n",
              "    40% {\n",
              "      border-color: transparent;\n",
              "      border-right-color: var(--fill-color);\n",
              "      border-top-color: var(--fill-color);\n",
              "    }\n",
              "    60% {\n",
              "      border-color: transparent;\n",
              "      border-right-color: var(--fill-color);\n",
              "    }\n",
              "    80% {\n",
              "      border-color: transparent;\n",
              "      border-right-color: var(--fill-color);\n",
              "      border-bottom-color: var(--fill-color);\n",
              "    }\n",
              "    90% {\n",
              "      border-color: transparent;\n",
              "      border-bottom-color: var(--fill-color);\n",
              "    }\n",
              "  }\n",
              "</style>\n",
              "\n",
              "      <script>\n",
              "        async function quickchart(key) {\n",
              "          const quickchartButtonEl =\n",
              "            document.querySelector('#' + key + ' button');\n",
              "          quickchartButtonEl.disabled = true;  // To prevent multiple clicks.\n",
              "          quickchartButtonEl.classList.add('colab-df-spinner');\n",
              "          try {\n",
              "            const charts = await google.colab.kernel.invokeFunction(\n",
              "                'suggestCharts', [key], {});\n",
              "          } catch (error) {\n",
              "            console.error('Error during call to suggestCharts:', error);\n",
              "          }\n",
              "          quickchartButtonEl.classList.remove('colab-df-spinner');\n",
              "          quickchartButtonEl.classList.add('colab-df-quickchart-complete');\n",
              "        }\n",
              "        (() => {\n",
              "          let quickchartButtonEl =\n",
              "            document.querySelector('#df-e98b0899-a115-4172-ae90-f71dc0f2a352 button');\n",
              "          quickchartButtonEl.style.display =\n",
              "            google.colab.kernel.accessAllowed ? 'block' : 'none';\n",
              "        })();\n",
              "      </script>\n",
              "    </div>\n",
              "\n",
              "    </div>\n",
              "  </div>\n"
            ],
            "application/vnd.google.colaboratory.intrinsic+json": {
              "type": "dataframe",
              "variable_name": "df",
              "summary": "{\n  \"name\": \"df\",\n  \"rows\": 174,\n  \"fields\": [\n    {\n      \"column\": \"Feature1\",\n      \"properties\": {\n        \"dtype\": \"number\",\n        \"std\": 1.6710702425809436,\n        \"min\": -0.9741773581988948,\n        \"max\": 9.703371858746909,\n        \"num_unique_values\": 164,\n        \"samples\": [\n          4.57657318294735,\n          4.651195288715066,\n          3.0201911054095203\n        ],\n        \"semantic_type\": \"\",\n        \"description\": \"\"\n      }\n    },\n    {\n      \"column\": \"Feature2\",\n      \"properties\": {\n        \"dtype\": \"number\",\n        \"std\": 1.4285155956149722,\n        \"min\": 0.2235528413775398,\n        \"max\": 11.702460813527866,\n        \"num_unique_values\": 164,\n        \"samples\": [\n          2.957753033300027,\n          3.744649409816864,\n          2.738457267852267\n        ],\n        \"semantic_type\": \"\",\n        \"description\": \"\"\n      }\n    },\n    {\n      \"column\": \"Label\",\n      \"properties\": {\n        \"dtype\": \"number\",\n        \"std\": 0,\n        \"min\": 0,\n        \"max\": 1,\n        \"num_unique_values\": 2,\n        \"samples\": [\n          0,\n          1\n        ],\n        \"semantic_type\": \"\",\n        \"description\": \"\"\n      }\n    }\n  ]\n}"
            }
          },
          "metadata": {},
          "execution_count": 3
        }
      ],
      "execution_count": 3
    },
    {
      "cell_type": "code",
      "source": [
        "from sklearn.preprocessing import LabelEncoder\n",
        "label_encoder = LabelEncoder()\n"
      ],
      "metadata": {
        "trusted": true,
        "execution": {
          "iopub.status.busy": "2025-05-20T20:29:14.203299Z",
          "iopub.execute_input": "2025-05-20T20:29:14.203899Z",
          "iopub.status.idle": "2025-05-20T20:29:14.207197Z",
          "shell.execute_reply.started": "2025-05-20T20:29:14.203879Z",
          "shell.execute_reply": "2025-05-20T20:29:14.206395Z"
        },
        "id": "EhD9f6jJc-gk"
      },
      "outputs": [],
      "execution_count": 4
    },
    {
      "cell_type": "code",
      "source": [
        "X_q=df.drop(\"Label\",axis=1)\n",
        "y_q=df[\"Label\"]"
      ],
      "metadata": {
        "trusted": true,
        "execution": {
          "iopub.status.busy": "2025-05-20T20:29:35.621978Z",
          "iopub.execute_input": "2025-05-20T20:29:35.622248Z",
          "iopub.status.idle": "2025-05-20T20:29:35.629534Z",
          "shell.execute_reply.started": "2025-05-20T20:29:35.622228Z",
          "shell.execute_reply": "2025-05-20T20:29:35.628968Z"
        },
        "id": "axPoTH3qc-gl"
      },
      "outputs": [],
      "execution_count": 5
    },
    {
      "cell_type": "code",
      "source": [
        "y_q = label_encoder.fit_transform(y_q)"
      ],
      "metadata": {
        "trusted": true,
        "execution": {
          "iopub.status.busy": "2025-05-20T20:29:50.544757Z",
          "iopub.execute_input": "2025-05-20T20:29:50.545091Z",
          "iopub.status.idle": "2025-05-20T20:29:50.549599Z",
          "shell.execute_reply.started": "2025-05-20T20:29:50.545072Z",
          "shell.execute_reply": "2025-05-20T20:29:50.548707Z"
        },
        "id": "SnKYN2E4c-gl"
      },
      "outputs": [],
      "execution_count": 6
    },
    {
      "cell_type": "code",
      "source": [
        "scaler = StandardScaler()\n",
        "X_q = scaler.fit_transform(X_q)"
      ],
      "metadata": {
        "trusted": true,
        "execution": {
          "iopub.status.busy": "2025-05-20T20:29:53.658741Z",
          "iopub.execute_input": "2025-05-20T20:29:53.659352Z",
          "iopub.status.idle": "2025-05-20T20:29:53.665522Z",
          "shell.execute_reply.started": "2025-05-20T20:29:53.659328Z",
          "shell.execute_reply": "2025-05-20T20:29:53.664576Z"
        },
        "id": "yG-b-X5Wc-gl"
      },
      "outputs": [],
      "execution_count": 7
    },
    {
      "cell_type": "code",
      "source": [
        "# Split into training and testing sets\n",
        "X_train_q, X_test_q, y_train_q, y_test_q = train_test_split(X_q, y_q, test_size=0.2, random_state=42)"
      ],
      "metadata": {
        "trusted": true,
        "execution": {
          "iopub.status.busy": "2025-05-20T20:30:01.062070Z",
          "iopub.execute_input": "2025-05-20T20:30:01.062334Z",
          "iopub.status.idle": "2025-05-20T20:30:01.066921Z",
          "shell.execute_reply.started": "2025-05-20T20:30:01.062316Z",
          "shell.execute_reply": "2025-05-20T20:30:01.066126Z"
        },
        "id": "oYXl27Cic-gm"
      },
      "outputs": [],
      "execution_count": 8
    },
    {
      "cell_type": "code",
      "source": [
        "# Quantum device\n",
        "n_qubits = 2\n",
        "dev = qml.device(\"default.qubit\", wires=n_qubits)"
      ],
      "metadata": {
        "trusted": true,
        "execution": {
          "iopub.status.busy": "2025-05-20T20:30:05.327980Z",
          "iopub.execute_input": "2025-05-20T20:30:05.328225Z",
          "iopub.status.idle": "2025-05-20T20:30:05.332243Z",
          "shell.execute_reply.started": "2025-05-20T20:30:05.328211Z",
          "shell.execute_reply": "2025-05-20T20:30:05.331467Z"
        },
        "id": "bGN2Uu0Oc-gm"
      },
      "outputs": [],
      "execution_count": 9
    },
    {
      "cell_type": "code",
      "source": [
        "# Quantum model\n",
        "def quantum_circuit(inputs, weights):\n",
        "    # Encoding the inputs into the quantum state\n",
        "    for i in range(n_qubits):\n",
        "        qml.RY(inputs[i], wires=i)\n",
        "\n",
        "    # Variational circuit with weights\n",
        "    for i in range(n_qubits):\n",
        "        qml.RY(weights[i], wires=i)\n",
        "        qml.RZ(weights[i + n_qubits], wires=i)\n",
        "    qml.CNOT(wires=[0, 1])\n",
        "    for i in range(n_qubits):\n",
        "        qml.RY(weights[i + 2 * n_qubits], wires=i)"
      ],
      "metadata": {
        "trusted": true,
        "execution": {
          "iopub.status.busy": "2025-05-20T20:30:14.514503Z",
          "iopub.execute_input": "2025-05-20T20:30:14.515296Z",
          "iopub.status.idle": "2025-05-20T20:30:14.519397Z",
          "shell.execute_reply.started": "2025-05-20T20:30:14.515275Z",
          "shell.execute_reply": "2025-05-20T20:30:14.518829Z"
        },
        "id": "pIeBoiBdc-gm"
      },
      "outputs": [],
      "execution_count": 10
    },
    {
      "cell_type": "code",
      "source": [
        "# Define the QNode\n",
        "@qml.qnode(dev)\n",
        "def qnode(inputs, weights):\n",
        "    quantum_circuit(inputs, weights)\n",
        "    return qml.expval(qml.PauliZ(0))"
      ],
      "metadata": {
        "trusted": true,
        "execution": {
          "iopub.status.busy": "2025-05-20T20:30:23.173808Z",
          "iopub.execute_input": "2025-05-20T20:30:23.174058Z",
          "iopub.status.idle": "2025-05-20T20:30:23.178481Z",
          "shell.execute_reply.started": "2025-05-20T20:30:23.174041Z",
          "shell.execute_reply": "2025-05-20T20:30:23.177183Z"
        },
        "id": "vJYFX-qcc-gn"
      },
      "outputs": [],
      "execution_count": 11
    },
    {
      "cell_type": "code",
      "source": [
        "def binary_cross_entropy(predictions, targets):\n",
        "    predictions = np.clip(predictions, 1e-9, 1 - 1e-9)  # Avoid log(0)\n",
        "    targets = np.array(targets)  # Convert targets to NumPy array\n",
        "    return -np.mean(targets * np.log(predictions) + (1 - targets) * np.log(1 - predictions))\n"
      ],
      "metadata": {
        "trusted": true,
        "execution": {
          "iopub.status.busy": "2025-05-20T20:30:29.909928Z",
          "iopub.execute_input": "2025-05-20T20:30:29.910409Z",
          "iopub.status.idle": "2025-05-20T20:30:29.914030Z",
          "shell.execute_reply.started": "2025-05-20T20:30:29.910393Z",
          "shell.execute_reply": "2025-05-20T20:30:29.913449Z"
        },
        "id": "JL4CusL8c-gn"
      },
      "outputs": [],
      "execution_count": 12
    },
    {
      "cell_type": "code",
      "source": [
        "# Define the hybrid model\n",
        "def predict(X, weights):\n",
        "    predictions = np.array([qnode(x, weights) for x in X])\n",
        "    return (predictions + 1) / 2  # Rescale to [0, 1]"
      ],
      "metadata": {
        "trusted": true,
        "execution": {
          "iopub.status.busy": "2025-05-20T20:30:33.607339Z",
          "iopub.execute_input": "2025-05-20T20:30:33.607590Z",
          "iopub.status.idle": "2025-05-20T20:30:33.611433Z",
          "shell.execute_reply.started": "2025-05-20T20:30:33.607572Z",
          "shell.execute_reply": "2025-05-20T20:30:33.610693Z"
        },
        "id": "CFTLH0Uvc-gn"
      },
      "outputs": [],
      "execution_count": 13
    },
    {
      "cell_type": "code",
      "source": [
        "# Initialize weights\n",
        "weights = np.random.uniform(-np.pi, np.pi, size=(3 * n_qubits,))\n",
        "\n",
        "# Training the model\n",
        "opt = qml.GradientDescentOptimizer(stepsize=0.01)\n",
        "epochs = 20\n",
        "\n",
        "for epoch in range(epochs):\n",
        "    for x, y_true in zip(X_train_q, y_train_q):\n",
        "        weights = opt.step(lambda w: binary_cross_entropy(predict([x], w), [y_true]), weights)\n",
        "\n",
        "    # Calculate loss for this epoch\n",
        "    train_predictions = predict(X_train_q, weights)\n",
        "    train_loss = binary_cross_entropy(train_predictions, y_train_q)\n",
        "    print(f\"Epoch {epoch + 1}: Loss = {train_loss}\")\n"
      ],
      "metadata": {
        "trusted": true,
        "execution": {
          "iopub.status.busy": "2025-05-20T20:31:16.009929Z",
          "iopub.execute_input": "2025-05-20T20:31:16.010171Z",
          "iopub.status.idle": "2025-05-20T20:32:07.925324Z",
          "shell.execute_reply.started": "2025-05-20T20:31:16.010157Z",
          "shell.execute_reply": "2025-05-20T20:32:07.924684Z"
        },
        "colab": {
          "base_uri": "https://localhost:8080/"
        },
        "id": "se1NQuUrc-go",
        "outputId": "d1c50059-58e5-4897-d416-06f27f1e140f"
      },
      "outputs": [
        {
          "output_type": "stream",
          "name": "stdout",
          "text": [
            "Epoch 1: Loss = 0.611299605099388\n",
            "Epoch 2: Loss = 0.6026706957439277\n",
            "Epoch 3: Loss = 0.6002910150340238\n",
            "Epoch 4: Loss = 0.599445470846353\n",
            "Epoch 5: Loss = 0.5990740482780055\n",
            "Epoch 6: Loss = 0.5988694652413507\n",
            "Epoch 7: Loss = 0.5987324205927478\n",
            "Epoch 8: Loss = 0.5986265657427382\n",
            "Epoch 9: Loss = 0.5985372202486852\n",
            "Epoch 10: Loss = 0.5984582070734628\n",
            "Epoch 11: Loss = 0.5983869968485109\n",
            "Epoch 12: Loss = 0.5983226719501159\n",
            "Epoch 13: Loss = 0.5982649948397117\n",
            "Epoch 14: Loss = 0.598213960007587\n",
            "Epoch 15: Loss = 0.5981695756436782\n",
            "Epoch 16: Loss = 0.5981317620185617\n",
            "Epoch 17: Loss = 0.5981003129299965\n",
            "Epoch 18: Loss = 0.5980748928405953\n",
            "Epoch 19: Loss = 0.598055054275494\n",
            "Epoch 20: Loss = 0.5980402657443359\n"
          ]
        }
      ],
      "execution_count": 26
    },
    {
      "cell_type": "code",
      "source": [
        "# Test the model\n",
        "test_predictions = predict(X_test_q, weights)\n",
        "test_predictions_binary = (test_predictions > 0.5).astype(int)\n",
        "accuracy = np.mean(test_predictions_binary == y_test_q)\n",
        "print(f\"Test Accuracy: {accuracy * 100:.2f}%\")"
      ],
      "metadata": {
        "trusted": true,
        "execution": {
          "iopub.status.busy": "2025-05-20T20:32:13.185942Z",
          "iopub.execute_input": "2025-05-20T20:32:13.186173Z",
          "iopub.status.idle": "2025-05-20T20:32:13.292253Z",
          "shell.execute_reply.started": "2025-05-20T20:32:13.186160Z",
          "shell.execute_reply": "2025-05-20T20:32:13.291563Z"
        },
        "colab": {
          "base_uri": "https://localhost:8080/"
        },
        "id": "QtFJd9Nlc-go",
        "outputId": "427fdf2c-c27a-4bd9-c790-24b7803ba692"
      },
      "outputs": [
        {
          "output_type": "stream",
          "name": "stdout",
          "text": [
            "Test Accuracy: 74.29%\n"
          ]
        }
      ],
      "execution_count": 27
    },
    {
      "cell_type": "code",
      "source": [
        "from sklearn.metrics import accuracy_score, classification_report, confusion_matrix\n",
        "y_pred=test_predictions_binary\n",
        "print(\"Classification Report:\")\n",
        "print(classification_report(y_test_q, y_pred))"
      ],
      "metadata": {
        "trusted": true,
        "execution": {
          "iopub.status.busy": "2025-05-20T20:32:21.294445Z",
          "iopub.execute_input": "2025-05-20T20:32:21.294747Z",
          "iopub.status.idle": "2025-05-20T20:32:21.306071Z",
          "shell.execute_reply.started": "2025-05-20T20:32:21.294729Z",
          "shell.execute_reply": "2025-05-20T20:32:21.305080Z"
        },
        "colab": {
          "base_uri": "https://localhost:8080/"
        },
        "id": "Hdnm_1d6c-gp",
        "outputId": "d6dd44ca-236d-4d6e-d59d-217de73d35f2"
      },
      "outputs": [
        {
          "output_type": "stream",
          "name": "stdout",
          "text": [
            "Classification Report:\n",
            "              precision    recall  f1-score   support\n",
            "\n",
            "           0       0.65      0.87      0.74        15\n",
            "           0       0.65      0.87      0.74        15\n",
            "           1       0.87      0.65      0.74        20\n",
            "           1       0.87      0.65      0.74        20\n",
            "\n",
            "    accuracy                           0.74        70\n",
            "   macro avg       0.76      0.76      0.74        70\n",
            "weighted avg       0.77      0.74      0.74        70\n",
            "\n"
          ]
        }
      ],
      "execution_count": 28
    },
    {
      "cell_type": "code",
      "source": [
        "from sklearn.metrics import roc_auc_score\n",
        "\n",
        "auc = roc_auc_score(y_test_q,y_pred)\n",
        "print(f\"AUC: {auc}\")"
      ],
      "metadata": {
        "trusted": true,
        "execution": {
          "iopub.status.busy": "2025-05-20T20:32:28.880140Z",
          "iopub.execute_input": "2025-05-20T20:32:28.880375Z",
          "iopub.status.idle": "2025-05-20T20:32:28.889822Z",
          "shell.execute_reply.started": "2025-05-20T20:32:28.880359Z",
          "shell.execute_reply": "2025-05-20T20:32:28.889056Z"
        },
        "colab": {
          "base_uri": "https://localhost:8080/"
        },
        "id": "ETvcd5c-c-gp",
        "outputId": "e5bd0796-70e5-435e-bb67-199419b94ced"
      },
      "outputs": [
        {
          "output_type": "stream",
          "name": "stdout",
          "text": [
            "AUC: 0.7583333333333333\n"
          ]
        }
      ],
      "execution_count": 29
    },
    {
      "cell_type": "code",
      "source": [],
      "metadata": {
        "trusted": true,
        "id": "AQn8sPVGc-gp"
      },
      "outputs": [],
      "execution_count": null
    }
  ]
}